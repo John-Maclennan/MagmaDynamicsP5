{
 "cells": [
  {
   "cell_type": "markdown",
   "metadata": {},
   "source": [
    "# Magma Dynamics Practical 5: Modelling Melt Flow in the Crust\n",
    "## John Maclennan, February 2021\n"
   ]
  },
  {
   "cell_type": "markdown",
   "metadata": {},
   "source": [
    "## Magma Flow Rates\n",
    "\n",
    "It is clear that magma flow in the upper crust is dominated by transport in open conduits. Dikes and sills with sharp margins provide pathways for crystal-poor magma as it rises towards the surface for eruption. John Rudge's part of the course will have demonstrated the importance of porous flow of melt in the mantle. Therefore, somewhere between melt generation and eruption, the mode of melt transport has to shift from porous intergranular to open flow. A major question in magma dynamics is therefore to establish the place where this transition occurs. The different physical mechanisms produce different physical properties of the flow that, as we shall see, may be recorded in geochemical observations. In this practical we shall examine rates of melt flow associated with different mechanisms.   \n",
    "\n",
    "## Flow in Dikes\n",
    "### Poiseuille Flow\n",
    "It is often assumed that flow of magma in dikes can be modelled with plane Poiseuille flow - laminar flow with no-slip boundaries on the walls. With a dike width of $A$, and distance across the dike being $x$. In Poiseuille flow the motion is governed by a pressure gradient along the direction $z$. In the simplest case, we can understand this as the difference between the magmastatic pressure gradient and the lithostatic gradient in the host rock. Therefore, the upwards vertical velocity of the melt is given as \n",
    "\n",
    "$v_z = \\frac{\\Delta\\rho g x(A-x)}{2 \\mu}$\n",
    "\n",
    "with $\\Delta\\rho$ being the density contrast and $\\mu$ magma viscosity. Can you tell from the units whether this viscosity is the dynamic or kinematic viscosity?  "
   ]
  },
  {
   "cell_type": "markdown",
   "metadata": {},
   "source": [
    "**Q1) Where in the dike will the peak $v_z$ be found?**\n",
    "\n",
    "A1) Write your answer here\n",
    "\n",
    "**Q2) Can you write out the expression for this peak flow velocity?**\n",
    "\n",
    "A2) Use the LaTeX formatting style for the equation above to do this - guidance can be provided!\n"
   ]
  },
  {
   "cell_type": "markdown",
   "metadata": {},
   "source": [
    "The total volumetric flux for unit length along strike of a dike is given by\n",
    "\n",
    "$Q = \\frac{\\Delta\\rho g A^3}{12 \\mu}$\n",
    "\n",
    "### Mid-Crustal Intrusion under Iceland\n",
    "An earthquake swarm under the Icelandic Northern Rift Zone at 15-18 km depth was observed by [White et al (2011)](https://www.sciencedirect.com/science/article/pii/S0012821X11001178?via%3Dihub). The earthquakes associated with this Upptypingar event showed a vertical propagation rate of 2-3 metres *per minute*. If this rate reflects the rate of movement of melt in a conduit, then it is possible to use this result to estimate the width of the conduit. \n",
    "\n",
    "**Q3) Estimate the width of the intrusion.**\n",
    "Edit the chunk of code below to make a labelled plot which can be used to estimate the intrusion width. You can also answer the question by rearranging the equations - but this is good stretching exercise for plotting in Python. You will need to change the variables, recognise the function, and change the plot appearance. Hints can be found on matplotlib examples pages. "
   ]
  },
  {
   "cell_type": "code",
   "execution_count": 5,
   "metadata": {},
   "outputs": [
    {
     "data": {
      "image/png": "[encoded data removed]",
      "text/plain": [
       "<Figure size 432x288 with 1 Axes>"
      ]
     },
     "metadata": {
      "needs_background": "light"
     },
     "output_type": "display_data"
    }
   ],
   "source": [
    "import matplotlib\n",
    "import matplotlib.pyplot as plt\n",
    "import numpy as np\n",
    "\n",
    "# Data for plotting\n",
    "delr = 3000 # kg m-3 - density difference between magma and host rock - you can change this to be something sensible.\n",
    "g = 1.8 # m s-2 - gravitational acceleration (I defaulted it to the Moon)\n",
    "mu = 200 # Pa s - (dynamic viscosty - answer to Q above!)\n",
    "A = np.arange(0.0, 100.0, 0.01) # Range of dike widths at which we need to evaluate the function\n",
    "vz = delr*g*A*A/(8.*mu) # peak upwelling velocity - equation is answer to previous question. \n",
    "\n",
    "fig, ax = plt.subplots()\n",
    "ax.plot(A, vz)\n",
    "\n",
    "ax.set(xlabel='Hulk Hogan (Units)', ylabel='Giant Haystack (Units)',\n",
    "       title='Wrestling with Flow Velocities')\n",
    "ax.grid()\n",
    "\n",
    "#fig.savefig(\"test.png\")\n",
    "plt.show()"
   ]
  },
  {
   "cell_type": "markdown",
   "metadata": {},
   "source": [
    "A3) Report the value and discuss what controls it, how uncertain it is and why it might be surprising. You can obtain some sensible constraints on the physical properties from  [Hartley and Maclennan (2018)](https://www.frontiersin.org/articles/10.3389/feart.2018.00029/full) praticularly roundabout Figure 2. "
   ]
  },
  {
   "cell_type": "markdown",
   "metadata": {},
   "source": [
    "**Q4) How long will it take to freeze this intrusion?**\n",
    "Add a new code cell below and write some expressions to work out the answer. "
   ]
  },
  {
   "cell_type": "markdown",
   "metadata": {},
   "source": [
    "A4) Provide the answer and discuss the uncertainties in this timescale estimate.  "
   ]
  },
  {
   "cell_type": "markdown",
   "metadata": {},
   "source": [
    "Given your knowledge of upper-crustal dikes, and the observations reported by [White et al (2011)](https://www.sciencedirect.com/science/article/pii/S0012821X11001178?via%3Dihub), it is possible to estimate the timescales of magma transport through the crust.\n",
    "\n",
    "**Q5) What is the transport time in for magma rising in dikes from the Icelandic Moho to the surface for eruption?**"
   ]
  },
  {
   "cell_type": "markdown",
   "metadata": {},
   "source": [
    "A5) Make a cell above to do some calculations. What are the uncertainties in your calculations? "
   ]
  },
  {
   "cell_type": "markdown",
   "metadata": {},
   "source": [
    "### Overpressure in the Chamber\n",
    "Before melt rises to the surface in an open intrusion, it may be stored in a chamber. If the walls of the chamber behave like an elastic/brittle material then the initial tensile failure of the country rock is driven by magmatic overpressure in the chamber. [Kelemen and Aharonov, 1998](https://agupubs.onlinelibrary.wiley.com/doi/abs/10.1029/GM106p0267) and [Hartley and Maclennan (2018)](https://www.frontiersin.org/articles/10.3389/feart.2018.00029/full). The overpressure required for failure is not well constrained, but is thought to lie between 1 and 10 MPa. \n",
    "\n",
    "**Q6) Does overpressure in the magma chamber play an important role in determining the magma flow velocity in the dike?** "
   ]
  },
  {
   "cell_type": "code",
   "execution_count": null,
   "metadata": {},
   "outputs": [],
   "source": [
    "# Write some equations in here to work it the answer to Q6\n",
    "p = 1"
   ]
  },
  {
   "cell_type": "markdown",
   "metadata": {},
   "source": [
    "A6) Answer - justify your thinking on this point. "
   ]
  },
  {
   "cell_type": "markdown",
   "metadata": {},
   "source": [
    "## Porous Flow in the Lower Crust\n",
    "### Estimates of Porous Flow Velocities\n",
    "\n",
    "Expressions from [McKenzie (1985)](https://www.sciencedirect.com/science/article/pii/0012821X85901682?via%3Dihub) were adapted by [Sparks et al (2019)](https://royalsocietypublishing.org/doi/10.1098/rsta.2018.0019) to estimate the porous flow velocity driven by compaction for various melts.\n",
    "\n",
    "$w_0 = \\frac{k_{\\phi}(1 - \\phi)\\Delta\\rho g}{\\mu \\phi}$ \n",
    "\n",
    "You've seen this equation in a practical quite recently. Can you remember where?\n",
    "\n",
    "**Q7) Use the parameter values from Sparks et al. (2019) or elsewhere to estimate the flow rates for basalt driven by compaction** "
   ]
  },
  {
   "cell_type": "code",
   "execution_count": null,
   "metadata": {},
   "outputs": [],
   "source": [
    "# Write some equations in here to work it the answer to Q7\n",
    "# You could also make a plot to show the influence of porosity on velocity\n",
    "w_0 = 1"
   ]
  },
  {
   "cell_type": "markdown",
   "metadata": {},
   "source": [
    "A7) Answer\n",
    "\n",
    "**Q8) How long would it take basaltic melt to rise through the Icelandic crust by compaction-driven porous flow? Compare this with the transit time in an open conduit that was obtained from Q5. How might this finding be used to test models of transcrustal magmatism? **"
   ]
  },
  {
   "cell_type": "code",
   "execution_count": null,
   "metadata": {},
   "outputs": [],
   "source": [
    "# Write some equations in here to work it the answer to Q8\n",
    "p = 1"
   ]
  },
  {
   "cell_type": "code",
   "execution_count": null,
   "metadata": {},
   "outputs": [],
   "source": [
    "A8) Answer"
   ]
  },
  {
   "cell_type": "markdown",
   "metadata": {},
   "source": [
    "### Consequences of Porous Flow Through Cumulates: Minor Element Chromatography \n",
    "\n",
    "In a very interesting paper, [Korenaga and Kelemen (1998)](https://www.sciencedirect.com/science/article/pii/S0012821X98000041) explored the geochemical imprint of vertical porous flow of basalt through layered mafic cumulates (gabbros from the lower crust in the Oman ophiolite). They did not specifically examine compaction-driven flow, but set up a flux-balance to estimate melt velocities. They examined the behaviour of elements with different solid-melt partition coefficients during porous flow. Elements that have a high partition coefficient in the solid will dominantly reside in the solid and their concentration profiles in are not altered by the melt flow. Conversely, elements with low partition cofficients will have their vertical concentration profiles in the cumulates shifted by the flow. This is analogous to chromatography.\n",
    "\n",
    "Under the assumption of local equilibrium for solid and melt, the advection velocity of the concentration of a chemical element is provided by\n",
    "\n",
    "$w_e = F w_0$\n",
    "\n",
    "with\n",
    "\n",
    "$F = \\left[\\frac{1 - \\phi}{\\phi} \\frac{\\rho_s}{\\rho_f} K + 1 \\right]^{-1}$.\n",
    "\n",
    "In this case, $K$ is the solid-melt partition coefficient for the element.\n",
    "\n",
    "First of all, by inspection of the equation, make sure that you can see how the relationship between fluid flow velocity and element translation velocity changes as a function of partition coefficient (e.g. take extreme cases). \n",
    "\n",
    "Figure 1 of [Korenaga and Kelemen (1998)](https://www.sciencedirect.com/science/article/pii/S0012821X98000041) shows that individual layers in the Oman lower gabbros preserve centimetre-scale correlations between sets of trace elements, such as Ni and Mn in olivine. These correlations form during fractional crystallisation of the melt in metre-scale sills. "
   ]
  },
  {
   "cell_type": "markdown",
   "metadata": {},
   "source": [
    "**Q9) Plot the advection distance for Ni (K=5) and Mn (K=0.5) as a function of time during porous flow.**\n",
    "\n",
    "A9) Insert plot here\n"
   ]
  },
  {
   "cell_type": "code",
   "execution_count": null,
   "metadata": {},
   "outputs": [],
   "source": [
    "**Q10) Speculate on the significance of this result for the evaluation of the role of porous flow in the lower crust**\n",
    "\n",
    "A10) Read [Korenaga and Kelemen (1998)](https://www.sciencedirect.com/science/article/pii/S0012821X98000041) for the details!"
   ]
  }
 ],
 "metadata": {
  "jupytext": {
   "cell_metadata_filter": "name,tags,-all",
   "main_language": "R",
   "notebook_metadata_filter": "-all"
  },
  "kernelspec": {
   "display_name": "Python 3",
   "language": "python",
   "name": "python3"
  },
  "language_info": {
   "codemirror_mode": {
    "name": "ipython",
    "version": 3
   },
   "file_extension": ".py",
   "mimetype": "text/x-python",
   "name": "python",
   "nbconvert_exporter": "python",
   "pygments_lexer": "ipython3",
   "version": "3.7.4"
  }
 },
 "nbformat": 4,
 "nbformat_minor": 4
}
